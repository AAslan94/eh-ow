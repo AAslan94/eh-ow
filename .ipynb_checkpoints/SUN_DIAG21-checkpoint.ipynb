{
 "cells": [
  {
   "cell_type": "code",
   "execution_count": 1,
   "id": "8ab629a0-2069-4450-91cf-d85f6445e72e",
   "metadata": {},
   "outputs": [],
   "source": [
    "import numpy as np\n",
    "from libow8 import sensor_net\n",
    "import matplotlib.pyplot as plt\n",
    "import owutils as ut\n",
    "from designs_diag import designs, align_receiver_to_transmitter\n",
    "from panel_ow import Panel\n",
    "from pyswarms.single.global_best import GlobalBestPSO"
   ]
  },
  {
   "cell_type": "code",
   "execution_count": null,
   "id": "030a344f-c230-450c-8116-1e35cf926513",
   "metadata": {},
   "outputs": [
    {
     "name": "stderr",
     "output_type": "stream",
     "text": [
      "2025-10-16 13:02:14,973 - pyswarms.single.global_best - INFO - Optimize for 200 iters with {'c1': 0.5, 'c2': 0.3, 'w': 0.7}\n"
     ]
    },
    {
     "name": "stdout",
     "output_type": "stream",
     "text": [
      "Optimizing particle 1 of 21\n"
     ]
    },
    {
     "name": "stderr",
     "output_type": "stream",
     "text": [
      "pyswarms.single.global_best:   0%|                                        |0/200/home/alexandros/Έγγραφα/GitHub/eh-ow (working now)/libow8.py:1133: RuntimeWarning: divide by zero encountered in log10\n",
      "  self.snr_s_los_dB = 10 * np.log10(self.snr_s_los)\n",
      "/home/alexandros/Έγγραφα/GitHub/eh-ow (working now)/libow8.py:1209: RuntimeWarning: divide by zero encountered in divide\n",
      "  self.PT_rq_m_los = 2 * self.g0 * np.sqrt( self.n_s ) / self.hi_sm_los\n",
      "/home/alexandros/anaconda3/lib/python3.11/site-packages/numpy/lib/polynomial.py:780: RuntimeWarning: invalid value encountered in multiply\n",
      "  y = y * x + pv\n",
      "pyswarms.single.global_best: 100%|█████████████████████|200/200, best_cost=0.132\n",
      "2025-10-16 13:34:40,360 - pyswarms.single.global_best - INFO - Optimization finished | best cost: 0.13213610426215489, best pos: [0.66720621 0.25174757 0.99981642]\n",
      "2025-10-16 13:34:40,365 - pyswarms.single.global_best - INFO - Optimize for 200 iters with {'c1': 0.5, 'c2': 0.3, 'w': 0.7}\n"
     ]
    },
    {
     "name": "stdout",
     "output_type": "stream",
     "text": [
      "Optimizing particle 2 of 21\n"
     ]
    },
    {
     "name": "stderr",
     "output_type": "stream",
     "text": [
      "pyswarms.single.global_best: 100%|███████████████████|200/200, best_cost=0.00352\n",
      "2025-10-16 14:06:25,915 - pyswarms.single.global_best - INFO - Optimization finished | best cost: 0.0035210799316160303, best pos: [0.72804836 0.28523483 0.43304809]\n",
      "2025-10-16 14:06:25,922 - pyswarms.single.global_best - INFO - Optimize for 200 iters with {'c1': 0.5, 'c2': 0.3, 'w': 0.7}\n"
     ]
    },
    {
     "name": "stdout",
     "output_type": "stream",
     "text": [
      "Optimizing particle 3 of 21\n"
     ]
    },
    {
     "name": "stderr",
     "output_type": "stream",
     "text": [
      "pyswarms.single.global_best: 100%|███████████████████|200/200, best_cost=0.00165\n",
      "2025-10-16 14:41:08,426 - pyswarms.single.global_best - INFO - Optimization finished | best cost: 0.0016485386859941263, best pos: [0.68664611 0.30876446 0.19601756]\n",
      "2025-10-16 14:41:08,432 - pyswarms.single.global_best - INFO - Optimize for 200 iters with {'c1': 0.5, 'c2': 0.3, 'w': 0.7}\n"
     ]
    },
    {
     "name": "stdout",
     "output_type": "stream",
     "text": [
      "Optimizing particle 4 of 21\n"
     ]
    },
    {
     "name": "stderr",
     "output_type": "stream",
     "text": [
      "pyswarms.single.global_best: 100%|██████████████████|200/200, best_cost=0.000888\n",
      "2025-10-16 15:17:45,179 - pyswarms.single.global_best - INFO - Optimization finished | best cost: 0.0008884905010145809, best pos: [0.72166923 0.33603087 0.09980892]\n",
      "2025-10-16 15:17:45,185 - pyswarms.single.global_best - INFO - Optimize for 200 iters with {'c1': 0.5, 'c2': 0.3, 'w': 0.7}\n"
     ]
    },
    {
     "name": "stdout",
     "output_type": "stream",
     "text": [
      "Optimizing particle 5 of 21\n"
     ]
    },
    {
     "name": "stderr",
     "output_type": "stream",
     "text": [
      "pyswarms.single.global_best: 100%|██████████████████|200/200, best_cost=0.000555\n",
      "2025-10-16 15:54:49,589 - pyswarms.single.global_best - INFO - Optimization finished | best cost: 0.0005553370629663922, best pos: [0.74388938 0.3637573  0.0576376 ]\n",
      "2025-10-16 15:54:49,595 - pyswarms.single.global_best - INFO - Optimize for 200 iters with {'c1': 0.5, 'c2': 0.3, 'w': 0.7}\n"
     ]
    },
    {
     "name": "stdout",
     "output_type": "stream",
     "text": [
      "Optimizing particle 6 of 21\n"
     ]
    },
    {
     "name": "stderr",
     "output_type": "stream",
     "text": [
      "pyswarms.single.global_best: 100%|██████████████████|200/200, best_cost=0.000389\n",
      "2025-10-17 10:06:40,305 - pyswarms.single.global_best - INFO - Optimization finished | best cost: 0.0003888458281363048, best pos: [0.76859147 0.39525613 0.03656276]\n",
      "2025-10-17 10:06:40,312 - pyswarms.single.global_best - INFO - Optimize for 200 iters with {'c1': 0.5, 'c2': 0.3, 'w': 0.7}\n"
     ]
    },
    {
     "name": "stdout",
     "output_type": "stream",
     "text": [
      "Optimizing particle 7 of 21\n"
     ]
    },
    {
     "name": "stderr",
     "output_type": "stream",
     "text": [
      "pyswarms.single.global_best:  76%|█████████████▋    |152/200, best_cost=0.000308"
     ]
    }
   ],
   "source": [
    "h_ww = None\n",
    "r_sens = None\n",
    "n_particles =40\n",
    "\n",
    "\n",
    "# ----------------------\n",
    "# Parameters\n",
    "# ----------------------\n",
    "KEY = 'A'\n",
    "params_d = designs[KEY]\n",
    "params_amb = designs['A'].copy()\n",
    "params_amb['r_master'] = params_d['r_lights']\n",
    "params_amb['PT_master'] = params_d['PT_lights']\n",
    "h_ww = None\n",
    "h_amb = None\n",
    "\n",
    "# ----------------------\n",
    "# Simulation function\n",
    "# ----------------------\n",
    "def sensor_ar(x, params_d=None): \n",
    "    \"\"\"\n",
    "    Runs the optical wireless simulation for a set of particles.\n",
    "    x shape: (n_particles, 3) -> [theta, phi, area]\n",
    "    \"\"\"\n",
    "    global h_ww\n",
    "    global r_sens\n",
    "    global nS_sens\n",
    "    global n_particles\n",
    "    global h_amb\n",
    "\n",
    "    theta = x[:,0]\n",
    "    phi   = x[:,1]\n",
    "    area  = x[:,2]\n",
    "\n",
    "    r_sensor = np.tile(r_sens, (n_particles, 1)) \n",
    "    nS_sensor = nS_sens \n",
    "    nR = ut.spher_to_cart_ar(1, theta, phi).T\n",
    "\n",
    "    params_amb['r_sensor'] = r_sensor\n",
    "    params_amb['nR_sensor'] = nR\n",
    "    params_amb['A_sensor'] = area   # pass area into simulation\n",
    "    params_amb['nS_sensor'] = nS_sensor   \n",
    "\n",
    "    l_amb = sensor_net(**params_amb) \n",
    "    l_amb.calch(h_ww=h_amb)\n",
    "    l_amb.light_sim()\n",
    "    h_amb = l_amb.h_ww\n",
    "\n",
    "    params_d['r_sensor'] = r_sensor\n",
    "    params_d['nR_sensor'] = nR\n",
    "    params_d['A_sensor'] = area   \n",
    "    params_d['nS_sensor'] = nS_sensor  \n",
    "    #print(params_d)\n",
    "    \n",
    " \n",
    "    l = sensor_net(**params_d) \n",
    "    l.calch(h_ww = h_ww)\n",
    "    l.light_sim()\n",
    "    h_ww = l.h_ww\n",
    "    l.calc_noise() #useless\n",
    "    l.calc_rq() \n",
    "\n",
    "\n",
    "\n",
    "    #connect\n",
    "    p_all = np.sum(np.sum(l_amb.Pin_sm_diff,axis = 0),axis = 1) + np.sum(l_amb.Pin_sm,axis = 0) +l_amb.Pin_sa + 0.5*l.Pin_sm_tot.flatten() #LOS + Diffuse + Ambient\n",
    "    p_no_sun = np.sum(np.sum(l_amb.Pin_sm_diff,axis = 0),axis = 1) + np.sum(l_amb.Pin_sm,axis = 0) \n",
    "    p_los = np.sum(l_amb.Pin_sm,axis = 0) \n",
    "    p_diff = np.sum(np.sum(l_amb.Pin_sm_diff,axis = 0),axis = 1)\n",
    "    p_amb = l_amb.Pin_sa\n",
    "    G_all = p_all/l_amb.A_sensor\n",
    "    G_los = p_los/l_amb.A_sensor\n",
    "    G_ac = l.Pin_sm_tot/l_amb.A_sensor\n",
    "    G_ac = G_ac.flatten()\n",
    "    G_no_sun = p_no_sun/l_amb.A_sensor\n",
    "\n",
    "    panels = []\n",
    "    pmax = np.zeros(G_los.shape)\n",
    "    ind  = np.zeros(G_los.shape, dtype=int)\n",
    "    bw = np.zeros(G_los.shape)\n",
    "    snr = np.zeros(G_los.shape)\n",
    "    signal = np.zeros(G_los.shape)\n",
    "    noise = np.zeros(G_los.shape)\n",
    "    snr_dB = np.zeros(G_los.shape)\n",
    "    v = np.zeros(G_los.shape)\n",
    "    C = np.zeros(G_los.shape)\n",
    "    req = np.zeros(G_los.shape)\n",
    "    rx = np.zeros(G_los.shape)\n",
    "\n",
    "    freq = np.linspace(100,20000,400)\n",
    "\n",
    "    for i in range(p_all.shape[0]):\n",
    "        panels.append(Panel(l_amb.A_sensor[i]*1e4, rs=1, rsh=1000, n=1.6, voc=0.64, isc=35e-3, G=G_all[i], Gac = G_ac[i]))\n",
    "        panels[i].run(False)\n",
    "        pmax[i] = panels[i].Pmax\n",
    "        ind[i] = int(panels[i].ind)    \n",
    "        panels[i].calc_capacitance()\n",
    "        panels[i].set_circuit(Rc = 10, Lo = 10, Co = 220e-6)\n",
    "        panels[i].find_bw()    \n",
    "        bw[i] = panels[i].BW[int(ind[i])]\n",
    "        panels[i].tf(freq)\n",
    "        panels[i].thermal_noise()\n",
    "        panels[i].all_thermal_noise(freq)\n",
    "        panels[i].shot_noise(freq)\n",
    "        panels[i].vp2p(freq)\n",
    "        signal[i] = panels[i].vac[int(ind[i])]\n",
    "        noise[i] = 4 *(panels[i].th_noise[int(ind[i])] + panels[i].sh_noise[int(ind[i])])\n",
    "        snr[i] = signal[i]**2/noise[i]\n",
    "        snr_dB[i] = 10*np.log10(snr[i])\n",
    "        v[i] = panels[i].V[int(ind[i])]\n",
    "        C[i] = panels[i].C[int(ind[i])]\n",
    "        req[i] = panels[i].req[int(ind[i])]\n",
    "        rx = panels[i].rx\n",
    "    l.calc_tbattery(br = np.floor(bw)*0.4)\n",
    "\n",
    "\n",
    "\n",
    "    e_day = pmax*3600*4*0.8\n",
    "    V = 3.3 #Volt\n",
    "    cycle_p = np.array([c.calc_cycle_consumption() for c in l.cycles]) * V\n",
    "    day_s = 3600*24\n",
    "    cycles_day = day_s/l.Tcycle\n",
    "    e_day_c = cycles_day * cycle_p\n",
    "\n",
    "    penalty = np.zeros(e_day_c.shape)\n",
    "\n",
    "    penalty[snr_dB<8.5] = 10\n",
    "    penalty[e_day < e_day_c] = 1e-2* (e_day_c[e_day < e_day_c] - e_day[e_day < e_day_c])\n",
    "    \n",
    "    \n",
    "    fitness = area + penalty\n",
    "\n",
    "    return fitness\n",
    "\n",
    "\n",
    "# ----------------------\n",
    "# Fitness wrapper for PSO\n",
    "# ----------------------\n",
    "def fit_function(x):\n",
    "    \"\"\"\n",
    "    Normalized swarm values x in [0,1]^3\n",
    "    Columns: theta, phi, area\n",
    "    \"\"\"\n",
    "    # Denormalize\n",
    "    theta = x[:,0] * (np.pi/2)\n",
    "    phi   = x[:,1] * (2*np.pi)\n",
    "    area  = 0.0001 + x[:,2] * (0.008 - 0.0001)  \n",
    "\n",
    "    # Rebuild for simulation\n",
    "    x_denorm = np.column_stack((theta, phi, area))\n",
    "\n",
    "    f = sensor_ar(x_denorm, params_d=params_d)\n",
    "    g = np.array(f).reshape(x.shape[0])\n",
    "    return g\n",
    "\n",
    "\n",
    "# ----------------------\n",
    "# Main optimization loop\n",
    "# ----------------------\n",
    "r_sen = designs[KEY]['r_sensor']\n",
    "nS_sen = np.round(align_receiver_to_transmitter(r_sen, np.array([5,5,3])), 2)\n",
    "N = r_sen.shape[0]\n",
    "\n",
    "pos_l = [0]*N   # Sensor positions\n",
    "pow_l = [0]*N   # Optical powers\n",
    "op_l = [0]*N    # Optimal orientations (theta, phi, area)\n",
    "\n",
    "options = {'c1': 0.5, 'c2': 0.3, 'w': 0.7}\n",
    "\n",
    "# Normalized bounds [0,1] for all parameters\n",
    "lb = np.zeros(3)\n",
    "ub = np.ones(3)\n",
    "\n",
    "all_cost_histories = [] \n",
    "\n",
    "for i in range(0, N):\n",
    "    r_sens = r_sen[i]\n",
    "    nS_sens = nS_sen[i]\n",
    "    print(\"Optimizing particle \" + str(i+1) + \" of \" + str(N))\n",
    "\n",
    "    optimizer = GlobalBestPSO(\n",
    "        n_particles=n_particles,\n",
    "        dimensions=3,   # theta, phi, area\n",
    "        options=options,\n",
    "        bounds=(lb, ub)\n",
    "    )\n",
    "\n",
    "    best_cost, best_pos = optimizer.optimize(fit_function, iters=200)\n",
    "\n",
    "    # Denormalize best_pos\n",
    "    theta = best_pos[0] * (np.pi/2)\n",
    "    phi   = best_pos[1] * (2*np.pi)\n",
    "    area  = 0.0001 + best_pos[2] * (0.008 - 0.0001)\n",
    "    pos_l[i] = r_sens\n",
    "    op_l[i]  = [theta, phi, area]\n",
    "    pow_l[i] = best_cost\n",
    "\n",
    "    all_cost_histories.append(optimizer.cost_history)\n",
    "\n",
    "\n",
    "# ----------------------\n",
    "# Results\n",
    "# ----------------------\n",
    "print(\"\\nOptimization complete!\")\n",
    "for i in range(N):\n",
    "    print(f\"Sensor {i+1}: Position={pos_l[i]}, Power={pow_l[i]:.4f}, Orientation={op_l[i]}\")"
   ]
  },
  {
   "cell_type": "code",
   "execution_count": null,
   "id": "18509e33-16d0-45ea-bfcb-01f411d54bf6",
   "metadata": {},
   "outputs": [],
   "source": [
    "plt.figure(figsize=(10,6))\n",
    "for i, cost_history in enumerate(all_cost_histories):\n",
    "    plt.plot(cost_history, linewidth=2, label=f\"Sensor {i+1}\")\n",
    "plt.xlabel(\"Iteration\")\n",
    "plt.ylabel(\"Best Cost (1/Power)\")\n",
    "plt.title(\"PSO Convergence Curves for All Sensors\")\n",
    "plt.grid(True, linestyle=\"--\", alpha=0.7)\n",
    "plt.legend()\n",
    "plt.tight_layout()\n",
    "plt.show()"
   ]
  },
  {
   "cell_type": "code",
   "execution_count": null,
   "id": "ecdb5b53-80e9-48e1-b92e-bb31044ab933",
   "metadata": {},
   "outputs": [],
   "source": [
    "pos_l = np.array(pos_l)   \n",
    "pow_l = np.array(pow_l)   \n",
    "op_l  = np.array(op_l)    \n",
    "\n",
    "all_cost_histories = np.array(all_cost_histories, dtype=object)\n",
    "\n",
    "results = {\n",
    "    \"positions\": pos_l,        # sensor positions\n",
    "    \"orientations\": op_l,      # best [theta, phi, area]\n",
    "    \"powers\": pow_l,           # fitness / best cost\n",
    "    \"cost_histories\": all_cost_histories,\n",
    "}\n",
    "\n",
    "np.savez(\"SUN_TO_USE_22.npz\", **results)\n",
    "print(\"\\nResults saved\")"
   ]
  },
  {
   "cell_type": "code",
   "execution_count": 28,
   "id": "45bb0d43-026c-4324-bf34-b1e14e559e74",
   "metadata": {},
   "outputs": [
    {
     "data": {
      "text/plain": [
       "array([0.0049429 , 0.00174434, 0.00082035, 0.00045944, 0.00029041,\n",
       "       0.00019419, 0.00015546, 0.00013425, 0.00013089, 0.00014398,\n",
       "       0.00015349, 0.00018459, 0.00023544, 0.00031838, 0.00044112,\n",
       "       0.00062167, 0.00087225, 0.00120623, 0.00164714, 0.00218577,\n",
       "       0.00287589])"
      ]
     },
     "execution_count": 28,
     "metadata": {},
     "output_type": "execute_result"
    }
   ],
   "source": [
    "op_l[:,2]"
   ]
  },
  {
   "cell_type": "code",
   "execution_count": 7,
   "id": "1945df4a-ae60-4a39-9ba0-58ad341a030b",
   "metadata": {},
   "outputs": [
    {
     "data": {
      "text/plain": [
       "array([0.33805325, 0.34536111, 0.37182189, 0.31521576, 0.25605432,\n",
       "       0.40097618, 0.32848711, 0.35102927, 0.45564686, 0.40982024,\n",
       "       0.43515509, 0.38125764, 0.41556377, 0.37435949, 0.41708226,\n",
       "       0.38273215, 0.4246896 , 0.43063024, 0.43158257, 0.41853035,\n",
       "       0.43502265])"
      ]
     },
     "execution_count": 7,
     "metadata": {},
     "output_type": "execute_result"
    }
   ],
   "source": [
    "op_l[:,0]/np.pi"
   ]
  },
  {
   "cell_type": "code",
   "execution_count": 8,
   "id": "813f424e-8b95-46ec-83d6-d06bdebdd1d8",
   "metadata": {},
   "outputs": [],
   "source": [
    "nor_arr = ut.spher_to_cart_ar(1, op_l[:,0],op_l[:,1]).T"
   ]
  },
  {
   "cell_type": "code",
   "execution_count": 10,
   "id": "581b956f-ead6-42cd-b472-c4b67b722c56",
   "metadata": {},
   "outputs": [
    {
     "data": {
      "text/plain": [
       "array([[ 0.01258183,  0.87325332,  0.48710404],\n",
       "       [-0.16890873,  0.86801446,  0.4669269 ],\n",
       "       [-0.41166726,  0.82277181,  0.39188852],\n",
       "       [-0.35120127,  0.75885012,  0.54845616],\n",
       "       [-0.45585658,  0.55786235,  0.69353037],\n",
       "       [-0.75249758,  0.58313881,  0.30609888],\n",
       "       [-0.67233731,  0.53353873,  0.51312666],\n",
       "       [-0.7963502 ,  0.40290052,  0.45110701],\n",
       "       [-0.97994049,  0.14292121,  0.13888904],\n",
       "       [-0.84413891,  0.45748289,  0.27953336],\n",
       "       [-0.96991943, -0.1353769 ,  0.20231016],\n",
       "       [-0.92980676,  0.05135102,  0.36444815],\n",
       "       [-0.94825205, -0.17913108,  0.26216429],\n",
       "       [-0.90380017, -0.1878109 ,  0.38454171],\n",
       "       [-0.93495359, -0.24397913,  0.25755768],\n",
       "       [-0.88651827, -0.29050192,  0.36013052],\n",
       "       [-0.91368734, -0.33201679,  0.23439345],\n",
       "       [-0.90608704, -0.36367469,  0.21621055],\n",
       "       [-0.89709018, -0.38695893,  0.21328851],\n",
       "       [-0.87625683, -0.40998097,  0.2531592 ],\n",
       "       [-0.87704339, -0.43554616,  0.20271762]])"
      ]
     },
     "execution_count": 10,
     "metadata": {},
     "output_type": "execute_result"
    }
   ],
   "source": [
    "nor_arr"
   ]
  },
  {
   "cell_type": "code",
   "execution_count": null,
   "id": "20793792-1daa-4d12-a9f1-1cdfdcd49c10",
   "metadata": {},
   "outputs": [],
   "source": []
  }
 ],
 "metadata": {
  "kernelspec": {
   "display_name": "Python 3 (ipykernel)",
   "language": "python",
   "name": "python3"
  },
  "language_info": {
   "codemirror_mode": {
    "name": "ipython",
    "version": 3
   },
   "file_extension": ".py",
   "mimetype": "text/x-python",
   "name": "python",
   "nbconvert_exporter": "python",
   "pygments_lexer": "ipython3",
   "version": "3.11.7"
  }
 },
 "nbformat": 4,
 "nbformat_minor": 5
}
